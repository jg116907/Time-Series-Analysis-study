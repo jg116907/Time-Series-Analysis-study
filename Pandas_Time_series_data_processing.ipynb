{
  "nbformat": 4,
  "nbformat_minor": 0,
  "metadata": {
    "colab": {
      "name": "Pandas_Time_series_data_processing.ipynb",
      "provenance": [],
      "collapsed_sections": [],
      "include_colab_link": true
    },
    "kernelspec": {
      "name": "python3",
      "display_name": "Python 3"
    }
  },
  "cells": [
    {
      "cell_type": "markdown",
      "metadata": {
        "id": "view-in-github",
        "colab_type": "text"
      },
      "source": [
        "<a href=\"https://colab.research.google.com/github/jg116907/Time-Series-Analysis-study/blob/master/Pandas_Time_series_data_processing.ipynb\" target=\"_parent\"><img src=\"https://colab.research.google.com/assets/colab-badge.svg\" alt=\"Open In Colab\"/></a>"
      ]
    },
    {
      "cell_type": "markdown",
      "metadata": {
        "id": "PDa4lPUqALBb",
        "colab_type": "text"
      },
      "source": [
        "# Pandas Date 다루기"
      ]
    },
    {
      "cell_type": "code",
      "metadata": {
        "id": "joFmWC_PAz1i",
        "colab_type": "code",
        "colab": {}
      },
      "source": [
        "import pandas as pd "
      ],
      "execution_count": 0,
      "outputs": []
    },
    {
      "cell_type": "code",
      "metadata": {
        "id": "TP_cbsjI_asj",
        "colab_type": "code",
        "colab": {}
      },
      "source": [
        "df = pd.read_csv(\"https://raw.githubusercontent.com/datascienceschool/docker_rpython/master/data/titanic.csv\")"
      ],
      "execution_count": 0,
      "outputs": []
    },
    {
      "cell_type": "code",
      "metadata": {
        "id": "Q1JCSLmoAv_-",
        "colab_type": "code",
        "colab": {}
      },
      "source": [
        "pd.set_option(\"display.max_rows\", 20) # 앞뒤로 모두 20행만 보여준다."
      ],
      "execution_count": 0,
      "outputs": []
    },
    {
      "cell_type": "code",
      "metadata": {
        "id": "jMqIFwZjBdfZ",
        "colab_type": "code",
        "colab": {}
      },
      "source": [
        "df"
      ],
      "execution_count": 0,
      "outputs": []
    },
    {
      "cell_type": "code",
      "metadata": {
        "id": "E5LTYdU5BeEc",
        "colab_type": "code",
        "colab": {}
      },
      "source": [
        "import datetime\n",
        "dt_start = datetime.datetime(2015,1,1)\n",
        "dt_end = \"2016, 6, 30\""
      ],
      "execution_count": 0,
      "outputs": []
    },
    {
      "cell_type": "code",
      "metadata": {
        "id": "zaJnaAFrBu99",
        "colab_type": "code",
        "colab": {
          "base_uri": "https://localhost:8080/",
          "height": 225
        },
        "outputId": "40d40e76-efe1-46c8-ca21-7bbd8773b7f4"
      },
      "source": [
        "import pandas_datareader as pdr\n",
        "\n",
        "gdp = pdr.get_data_fred('GDP',dt_start,dt_end) # 해당 날짜 사이의 GDP만 가져온다\n",
        "gdp.tail()"
      ],
      "execution_count": 7,
      "outputs": [
        {
          "output_type": "execute_result",
          "data": {
            "text/html": [
              "<div>\n",
              "<style scoped>\n",
              "    .dataframe tbody tr th:only-of-type {\n",
              "        vertical-align: middle;\n",
              "    }\n",
              "\n",
              "    .dataframe tbody tr th {\n",
              "        vertical-align: top;\n",
              "    }\n",
              "\n",
              "    .dataframe thead th {\n",
              "        text-align: right;\n",
              "    }\n",
              "</style>\n",
              "<table border=\"1\" class=\"dataframe\">\n",
              "  <thead>\n",
              "    <tr style=\"text-align: right;\">\n",
              "      <th></th>\n",
              "      <th>GDP</th>\n",
              "    </tr>\n",
              "    <tr>\n",
              "      <th>DATE</th>\n",
              "      <th></th>\n",
              "    </tr>\n",
              "  </thead>\n",
              "  <tbody>\n",
              "    <tr>\n",
              "      <th>2015-04-01</th>\n",
              "      <td>18219.405</td>\n",
              "    </tr>\n",
              "    <tr>\n",
              "      <th>2015-07-01</th>\n",
              "      <td>18344.713</td>\n",
              "    </tr>\n",
              "    <tr>\n",
              "      <th>2015-10-01</th>\n",
              "      <td>18350.825</td>\n",
              "    </tr>\n",
              "    <tr>\n",
              "      <th>2016-01-01</th>\n",
              "      <td>18424.283</td>\n",
              "    </tr>\n",
              "    <tr>\n",
              "      <th>2016-04-01</th>\n",
              "      <td>18637.253</td>\n",
              "    </tr>\n",
              "  </tbody>\n",
              "</table>\n",
              "</div>"
            ],
            "text/plain": [
              "                  GDP\n",
              "DATE                 \n",
              "2015-04-01  18219.405\n",
              "2015-07-01  18344.713\n",
              "2015-10-01  18350.825\n",
              "2016-01-01  18424.283\n",
              "2016-04-01  18637.253"
            ]
          },
          "metadata": {
            "tags": []
          },
          "execution_count": 7
        }
      ]
    },
    {
      "cell_type": "code",
      "metadata": {
        "id": "KVPhWIVSCADZ",
        "colab_type": "code",
        "colab": {
          "base_uri": "https://localhost:8080/",
          "height": 225
        },
        "outputId": "21a828b8-f27b-4cd5-a1cb-39569112a7cc"
      },
      "source": [
        "inflation = pdr.get_data_fred([\"CPIAUCSL\",\"CPILFESL\"],dt_start,dt_end)\n",
        "inflation.tail()"
      ],
      "execution_count": 8,
      "outputs": [
        {
          "output_type": "execute_result",
          "data": {
            "text/html": [
              "<div>\n",
              "<style scoped>\n",
              "    .dataframe tbody tr th:only-of-type {\n",
              "        vertical-align: middle;\n",
              "    }\n",
              "\n",
              "    .dataframe tbody tr th {\n",
              "        vertical-align: top;\n",
              "    }\n",
              "\n",
              "    .dataframe thead th {\n",
              "        text-align: right;\n",
              "    }\n",
              "</style>\n",
              "<table border=\"1\" class=\"dataframe\">\n",
              "  <thead>\n",
              "    <tr style=\"text-align: right;\">\n",
              "      <th></th>\n",
              "      <th>CPIAUCSL</th>\n",
              "      <th>CPILFESL</th>\n",
              "    </tr>\n",
              "    <tr>\n",
              "      <th>DATE</th>\n",
              "      <th></th>\n",
              "      <th></th>\n",
              "    </tr>\n",
              "  </thead>\n",
              "  <tbody>\n",
              "    <tr>\n",
              "      <th>2016-02-01</th>\n",
              "      <td>237.469</td>\n",
              "      <td>245.684</td>\n",
              "    </tr>\n",
              "    <tr>\n",
              "      <th>2016-03-01</th>\n",
              "      <td>238.038</td>\n",
              "      <td>245.986</td>\n",
              "    </tr>\n",
              "    <tr>\n",
              "      <th>2016-04-01</th>\n",
              "      <td>238.827</td>\n",
              "      <td>246.477</td>\n",
              "    </tr>\n",
              "    <tr>\n",
              "      <th>2016-05-01</th>\n",
              "      <td>239.464</td>\n",
              "      <td>247.018</td>\n",
              "    </tr>\n",
              "    <tr>\n",
              "      <th>2016-06-01</th>\n",
              "      <td>240.167</td>\n",
              "      <td>247.431</td>\n",
              "    </tr>\n",
              "  </tbody>\n",
              "</table>\n",
              "</div>"
            ],
            "text/plain": [
              "            CPIAUCSL  CPILFESL\n",
              "DATE                          \n",
              "2016-02-01   237.469   245.684\n",
              "2016-03-01   238.038   245.986\n",
              "2016-04-01   238.827   246.477\n",
              "2016-05-01   239.464   247.018\n",
              "2016-06-01   240.167   247.431"
            ]
          },
          "metadata": {
            "tags": []
          },
          "execution_count": 8
        }
      ]
    },
    {
      "cell_type": "code",
      "metadata": {
        "id": "w9786tmGCgAY",
        "colab_type": "code",
        "colab": {}
      },
      "source": [
        "inf = inflation.reset_index()"
      ],
      "execution_count": 0,
      "outputs": []
    },
    {
      "cell_type": "code",
      "metadata": {
        "id": "tQ9qY2J2C8r8",
        "colab_type": "code",
        "colab": {
          "base_uri": "https://localhost:8080/",
          "height": 158
        },
        "outputId": "ff6b525a-cf17-4ba2-9938-94b58e064668"
      },
      "source": [
        "inf.info()"
      ],
      "execution_count": 13,
      "outputs": [
        {
          "output_type": "stream",
          "text": [
            "<class 'pandas.core.frame.DataFrame'>\n",
            "RangeIndex: 18 entries, 0 to 17\n",
            "Data columns (total 3 columns):\n",
            "DATE        18 non-null datetime64[ns]\n",
            "CPIAUCSL    18 non-null float64\n",
            "CPILFESL    18 non-null float64\n",
            "dtypes: datetime64[ns](1), float64(2)\n",
            "memory usage: 512.0 bytes\n"
          ],
          "name": "stdout"
        }
      ]
    },
    {
      "cell_type": "markdown",
      "metadata": {
        "id": "2ooD8BLKUsbL",
        "colab_type": "text"
      },
      "source": [
        "---\n",
        "# Pandas date function"
      ]
    },
    {
      "cell_type": "code",
      "metadata": {
        "id": "pcIkSOUcVDBU",
        "colab_type": "code",
        "colab": {}
      },
      "source": [
        "import pandas as pd\n",
        "import numpy as np"
      ],
      "execution_count": 0,
      "outputs": []
    },
    {
      "cell_type": "code",
      "metadata": {
        "id": "LCmcRmmJDHOx",
        "colab_type": "code",
        "colab": {
          "base_uri": "https://localhost:8080/",
          "height": 54
        },
        "outputId": "726e446c-09b5-494e-da3f-872b0a7f4b05"
      },
      "source": [
        "date_str = [\"2018, 1, 1\",\"2018, 1, 4\",\"2018, 1, 5\",\"2018, 1, 6\"]\n",
        "idx = pd.to_datetime(date_str)\n",
        "idx"
      ],
      "execution_count": 2,
      "outputs": [
        {
          "output_type": "execute_result",
          "data": {
            "text/plain": [
              "DatetimeIndex(['2018-01-01', '2018-01-04', '2018-01-05', '2018-01-06'], dtype='datetime64[ns]', freq=None)"
            ]
          },
          "metadata": {
            "tags": []
          },
          "execution_count": 2
        }
      ]
    },
    {
      "cell_type": "code",
      "metadata": {
        "id": "c-dWVQ9CVGYO",
        "colab_type": "code",
        "colab": {
          "base_uri": "https://localhost:8080/",
          "height": 105
        },
        "outputId": "b82ef869-ce42-44d1-dbd0-7a02196cdd24"
      },
      "source": [
        "np.random.seed(0)\n",
        "s = pd.Series(np.random.randn(4), index=idx)\n",
        "s"
      ],
      "execution_count": 5,
      "outputs": [
        {
          "output_type": "execute_result",
          "data": {
            "text/plain": [
              "2018-01-01    1.764052\n",
              "2018-01-04    0.400157\n",
              "2018-01-05    0.978738\n",
              "2018-01-06    2.240893\n",
              "dtype: float64"
            ]
          },
          "metadata": {
            "tags": []
          },
          "execution_count": 5
        }
      ]
    },
    {
      "cell_type": "code",
      "metadata": {
        "id": "DCPM0ehqVQTH",
        "colab_type": "code",
        "colab": {
          "base_uri": "https://localhost:8080/",
          "height": 175
        },
        "outputId": "39310a56-fd4f-4f4e-affa-ab3cea218868"
      },
      "source": [
        "pd.date_range(\"2018-4-1\", \"2018-4-30\")"
      ],
      "execution_count": 6,
      "outputs": [
        {
          "output_type": "execute_result",
          "data": {
            "text/plain": [
              "DatetimeIndex(['2018-04-01', '2018-04-02', '2018-04-03', '2018-04-04',\n",
              "               '2018-04-05', '2018-04-06', '2018-04-07', '2018-04-08',\n",
              "               '2018-04-09', '2018-04-10', '2018-04-11', '2018-04-12',\n",
              "               '2018-04-13', '2018-04-14', '2018-04-15', '2018-04-16',\n",
              "               '2018-04-17', '2018-04-18', '2018-04-19', '2018-04-20',\n",
              "               '2018-04-21', '2018-04-22', '2018-04-23', '2018-04-24',\n",
              "               '2018-04-25', '2018-04-26', '2018-04-27', '2018-04-28',\n",
              "               '2018-04-29', '2018-04-30'],\n",
              "              dtype='datetime64[ns]', freq='D')"
            ]
          },
          "metadata": {
            "tags": []
          },
          "execution_count": 6
        }
      ]
    },
    {
      "cell_type": "code",
      "metadata": {
        "id": "OcMAFREmVdxr",
        "colab_type": "code",
        "colab": {
          "base_uri": "https://localhost:8080/",
          "height": 175
        },
        "outputId": "ddf8fc2b-57e7-4075-9a7b-7120717a132d"
      },
      "source": [
        "pd.date_range(start=\"2018-4-1\", periods=30)"
      ],
      "execution_count": 8,
      "outputs": [
        {
          "output_type": "execute_result",
          "data": {
            "text/plain": [
              "DatetimeIndex(['2018-04-01', '2018-04-02', '2018-04-03', '2018-04-04',\n",
              "               '2018-04-05', '2018-04-06', '2018-04-07', '2018-04-08',\n",
              "               '2018-04-09', '2018-04-10', '2018-04-11', '2018-04-12',\n",
              "               '2018-04-13', '2018-04-14', '2018-04-15', '2018-04-16',\n",
              "               '2018-04-17', '2018-04-18', '2018-04-19', '2018-04-20',\n",
              "               '2018-04-21', '2018-04-22', '2018-04-23', '2018-04-24',\n",
              "               '2018-04-25', '2018-04-26', '2018-04-27', '2018-04-28',\n",
              "               '2018-04-29', '2018-04-30'],\n",
              "              dtype='datetime64[ns]', freq='D')"
            ]
          },
          "metadata": {
            "tags": []
          },
          "execution_count": 8
        }
      ]
    },
    {
      "cell_type": "code",
      "metadata": {
        "id": "y_vvIF1CVxJp",
        "colab_type": "code",
        "colab": {
          "base_uri": "https://localhost:8080/",
          "height": 140
        },
        "outputId": "0f1a3288-495c-482e-d7ad-5c6bb188b50e"
      },
      "source": [
        "pd.date_range(\"2018-4-1\",\"2018-4-30\", freq=\"B\") # 주말 제외"
      ],
      "execution_count": 9,
      "outputs": [
        {
          "output_type": "execute_result",
          "data": {
            "text/plain": [
              "DatetimeIndex(['2018-04-02', '2018-04-03', '2018-04-04', '2018-04-05',\n",
              "               '2018-04-06', '2018-04-09', '2018-04-10', '2018-04-11',\n",
              "               '2018-04-12', '2018-04-13', '2018-04-16', '2018-04-17',\n",
              "               '2018-04-18', '2018-04-19', '2018-04-20', '2018-04-23',\n",
              "               '2018-04-24', '2018-04-25', '2018-04-26', '2018-04-27',\n",
              "               '2018-04-30'],\n",
              "              dtype='datetime64[ns]', freq='B')"
            ]
          },
          "metadata": {
            "tags": []
          },
          "execution_count": 9
        }
      ]
    },
    {
      "cell_type": "code",
      "metadata": {
        "id": "JWis65S_V-0J",
        "colab_type": "code",
        "colab": {
          "base_uri": "https://localhost:8080/",
          "height": 263
        },
        "outputId": "f8c39f57-ba71-46cd-9b40-ce64a8d5ab91"
      },
      "source": [
        "pd.date_range(\"2018-1-1\",\"2018-12-31\", freq=\"W\") # 주(일요일)"
      ],
      "execution_count": 11,
      "outputs": [
        {
          "output_type": "execute_result",
          "data": {
            "text/plain": [
              "DatetimeIndex(['2018-01-07', '2018-01-14', '2018-01-21', '2018-01-28',\n",
              "               '2018-02-04', '2018-02-11', '2018-02-18', '2018-02-25',\n",
              "               '2018-03-04', '2018-03-11', '2018-03-18', '2018-03-25',\n",
              "               '2018-04-01', '2018-04-08', '2018-04-15', '2018-04-22',\n",
              "               '2018-04-29', '2018-05-06', '2018-05-13', '2018-05-20',\n",
              "               '2018-05-27', '2018-06-03', '2018-06-10', '2018-06-17',\n",
              "               '2018-06-24', '2018-07-01', '2018-07-08', '2018-07-15',\n",
              "               '2018-07-22', '2018-07-29', '2018-08-05', '2018-08-12',\n",
              "               '2018-08-19', '2018-08-26', '2018-09-02', '2018-09-09',\n",
              "               '2018-09-16', '2018-09-23', '2018-09-30', '2018-10-07',\n",
              "               '2018-10-14', '2018-10-21', '2018-10-28', '2018-11-04',\n",
              "               '2018-11-11', '2018-11-18', '2018-11-25', '2018-12-02',\n",
              "               '2018-12-09', '2018-12-16', '2018-12-23', '2018-12-30'],\n",
              "              dtype='datetime64[ns]', freq='W-SUN')"
            ]
          },
          "metadata": {
            "tags": []
          },
          "execution_count": 11
        }
      ]
    },
    {
      "cell_type": "markdown",
      "metadata": {
        "id": "W15dUkb9WnND",
        "colab_type": "text"
      },
      "source": [
        "# shift 연산"
      ]
    },
    {
      "cell_type": "code",
      "metadata": {
        "id": "dKDMbcmoWKCK",
        "colab_type": "code",
        "colab": {
          "base_uri": "https://localhost:8080/",
          "height": 105
        },
        "outputId": "c7f66719-4a55-4ccb-aa74-12f0b534704f"
      },
      "source": [
        "np.random.seed(0)\n",
        "ts = pd.Series(np.random.randn(4), index=pd.date_range(\"2018-1-1\",periods=4,freq=\"M\"))\n",
        "ts"
      ],
      "execution_count": 12,
      "outputs": [
        {
          "output_type": "execute_result",
          "data": {
            "text/plain": [
              "2018-01-31    1.764052\n",
              "2018-02-28    0.400157\n",
              "2018-03-31    0.978738\n",
              "2018-04-30    2.240893\n",
              "Freq: M, dtype: float64"
            ]
          },
          "metadata": {
            "tags": []
          },
          "execution_count": 12
        }
      ]
    },
    {
      "cell_type": "code",
      "metadata": {
        "id": "xJ1NxnLAW_qe",
        "colab_type": "code",
        "colab": {
          "base_uri": "https://localhost:8080/",
          "height": 105
        },
        "outputId": "6b5e2fcc-882d-45f7-eccc-86e103615e39"
      },
      "source": [
        "ts.shift(1)"
      ],
      "execution_count": 13,
      "outputs": [
        {
          "output_type": "execute_result",
          "data": {
            "text/plain": [
              "2018-01-31         NaN\n",
              "2018-02-28    1.764052\n",
              "2018-03-31    0.400157\n",
              "2018-04-30    0.978738\n",
              "Freq: M, dtype: float64"
            ]
          },
          "metadata": {
            "tags": []
          },
          "execution_count": 13
        }
      ]
    },
    {
      "cell_type": "code",
      "metadata": {
        "id": "EtYugaq_XKGg",
        "colab_type": "code",
        "colab": {
          "base_uri": "https://localhost:8080/",
          "height": 105
        },
        "outputId": "6dbadd76-9237-444e-9c52-f3013442e13b"
      },
      "source": [
        "ts.shift(-1)"
      ],
      "execution_count": 14,
      "outputs": [
        {
          "output_type": "execute_result",
          "data": {
            "text/plain": [
              "2018-01-31    0.400157\n",
              "2018-02-28    0.978738\n",
              "2018-03-31    2.240893\n",
              "2018-04-30         NaN\n",
              "Freq: M, dtype: float64"
            ]
          },
          "metadata": {
            "tags": []
          },
          "execution_count": 14
        }
      ]
    },
    {
      "cell_type": "code",
      "metadata": {
        "id": "DxfopcsFXM2P",
        "colab_type": "code",
        "colab": {
          "base_uri": "https://localhost:8080/",
          "height": 105
        },
        "outputId": "01921989-52bb-4bc3-836e-922d4f3fde8e"
      },
      "source": [
        "ts.shift(1, freq=\"M\")"
      ],
      "execution_count": 15,
      "outputs": [
        {
          "output_type": "execute_result",
          "data": {
            "text/plain": [
              "2018-02-28    1.764052\n",
              "2018-03-31    0.400157\n",
              "2018-04-30    0.978738\n",
              "2018-05-31    2.240893\n",
              "Freq: M, dtype: float64"
            ]
          },
          "metadata": {
            "tags": []
          },
          "execution_count": 15
        }
      ]
    },
    {
      "cell_type": "markdown",
      "metadata": {
        "id": "IlADSSvGXWn1",
        "colab_type": "text"
      },
      "source": [
        "# resample 연산"
      ]
    },
    {
      "cell_type": "code",
      "metadata": {
        "id": "yBjxhvCWXSa_",
        "colab_type": "code",
        "colab": {
          "base_uri": "https://localhost:8080/",
          "height": 386
        },
        "outputId": "a8823221-8a50-4936-e284-40cc9afedd58"
      },
      "source": [
        "ts = pd.Series(np.random.randn(100),index=pd.date_range(\"2018-1-1\",periods=100, freq=\"D\"))\n",
        "ts.tail(20)"
      ],
      "execution_count": 16,
      "outputs": [
        {
          "output_type": "execute_result",
          "data": {
            "text/plain": [
              "2018-03-22    1.488252\n",
              "2018-03-23    1.895889\n",
              "2018-03-24    1.178780\n",
              "2018-03-25   -0.179925\n",
              "2018-03-26   -1.070753\n",
              "2018-03-27    1.054452\n",
              "2018-03-28   -0.403177\n",
              "2018-03-29    1.222445\n",
              "2018-03-30    0.208275\n",
              "2018-03-31    0.976639\n",
              "2018-04-01    0.356366\n",
              "2018-04-02    0.706573\n",
              "2018-04-03    0.010500\n",
              "2018-04-04    1.785870\n",
              "2018-04-05    0.126912\n",
              "2018-04-06    0.401989\n",
              "2018-04-07    1.883151\n",
              "2018-04-08   -1.347759\n",
              "2018-04-09   -1.270485\n",
              "2018-04-10    0.969397\n",
              "Freq: D, dtype: float64"
            ]
          },
          "metadata": {
            "tags": []
          },
          "execution_count": 16
        }
      ]
    },
    {
      "cell_type": "code",
      "metadata": {
        "id": "OgTF703-X3GI",
        "colab_type": "code",
        "colab": {
          "base_uri": "https://localhost:8080/",
          "height": 298
        },
        "outputId": "a5f37b23-b959-4e91-d077-76caea021594"
      },
      "source": [
        "ts.resample('W').mean() # 주마다로 다운 샘플링"
      ],
      "execution_count": 17,
      "outputs": [
        {
          "output_type": "execute_result",
          "data": {
            "text/plain": [
              "2018-01-07    0.305776\n",
              "2018-01-14    0.629064\n",
              "2018-01-21   -0.006910\n",
              "2018-01-28    0.277065\n",
              "2018-02-04   -0.144972\n",
              "2018-02-11   -0.496299\n",
              "2018-02-18   -0.474473\n",
              "2018-02-25   -0.201222\n",
              "2018-03-04   -0.775142\n",
              "2018-03-11    0.052868\n",
              "2018-03-18   -0.450379\n",
              "2018-03-25    0.601892\n",
              "2018-04-01    0.334893\n",
              "2018-04-08    0.509605\n",
              "2018-04-15   -0.150544\n",
              "Freq: W-SUN, dtype: float64"
            ]
          },
          "metadata": {
            "tags": []
          },
          "execution_count": 17
        }
      ]
    },
    {
      "cell_type": "code",
      "metadata": {
        "id": "2rIJnnaUYCKg",
        "colab_type": "code",
        "colab": {
          "base_uri": "https://localhost:8080/",
          "height": 105
        },
        "outputId": "83795952-8c27-43a4-d1e6-38096a980419"
      },
      "source": [
        "ts.resample('M').first() # 달마다로 다운 샘플링, 가장 첫번째 값"
      ],
      "execution_count": 18,
      "outputs": [
        {
          "output_type": "execute_result",
          "data": {
            "text/plain": [
              "2018-01-31    1.867558\n",
              "2018-02-28    0.156349\n",
              "2018-03-31   -1.726283\n",
              "2018-04-30    0.356366\n",
              "Freq: M, dtype: float64"
            ]
          },
          "metadata": {
            "tags": []
          },
          "execution_count": 18
        }
      ]
    },
    {
      "cell_type": "code",
      "metadata": {
        "id": "kt3usdgKYQkk",
        "colab_type": "code",
        "colab": {
          "base_uri": "https://localhost:8080/",
          "height": 386
        },
        "outputId": "41563730-dd7a-4474-929f-7262a74da950"
      },
      "source": [
        "ts = pd.Series(np.random.randn(60),index=pd.date_range(\"2018-1-1\",periods=60,freq=\"T\"))\n",
        "ts.head(20)"
      ],
      "execution_count": 19,
      "outputs": [
        {
          "output_type": "execute_result",
          "data": {
            "text/plain": [
              "2018-01-01 00:00:00   -1.173123\n",
              "2018-01-01 00:01:00    1.943621\n",
              "2018-01-01 00:02:00   -0.413619\n",
              "2018-01-01 00:03:00   -0.747455\n",
              "2018-01-01 00:04:00    1.922942\n",
              "2018-01-01 00:05:00    1.480515\n",
              "2018-01-01 00:06:00    1.867559\n",
              "2018-01-01 00:07:00    0.906045\n",
              "2018-01-01 00:08:00   -0.861226\n",
              "2018-01-01 00:09:00    1.910065\n",
              "2018-01-01 00:10:00   -0.268003\n",
              "2018-01-01 00:11:00    0.802456\n",
              "2018-01-01 00:12:00    0.947252\n",
              "2018-01-01 00:13:00   -0.155010\n",
              "2018-01-01 00:14:00    0.614079\n",
              "2018-01-01 00:15:00    0.922207\n",
              "2018-01-01 00:16:00    0.376426\n",
              "2018-01-01 00:17:00   -1.099401\n",
              "2018-01-01 00:18:00    0.298238\n",
              "2018-01-01 00:19:00    1.326386\n",
              "Freq: T, dtype: float64"
            ]
          },
          "metadata": {
            "tags": []
          },
          "execution_count": 19
        }
      ]
    },
    {
      "cell_type": "code",
      "metadata": {
        "id": "5tR935tlYoFe",
        "colab_type": "code",
        "colab": {
          "base_uri": "https://localhost:8080/",
          "height": 140
        },
        "outputId": "938c75e8-9558-4144-f5ff-118a3183d5d7"
      },
      "source": [
        "ts.resample('10T').sum()"
      ],
      "execution_count": 20,
      "outputs": [
        {
          "output_type": "execute_result",
          "data": {
            "text/plain": [
              "2018-01-01 00:00:00    6.835324\n",
              "2018-01-01 00:10:00    3.764630\n",
              "2018-01-01 00:20:00    0.776495\n",
              "2018-01-01 00:30:00   -0.538336\n",
              "2018-01-01 00:40:00    1.828234\n",
              "2018-01-01 00:50:00    0.167957\n",
              "Freq: 10T, dtype: float64"
            ]
          },
          "metadata": {
            "tags": []
          },
          "execution_count": 20
        }
      ]
    },
    {
      "cell_type": "code",
      "metadata": {
        "id": "KtIso-GrYuvX",
        "colab_type": "code",
        "colab": {
          "base_uri": "https://localhost:8080/",
          "height": 158
        },
        "outputId": "e9961e63-9e4b-4f5b-c0f4-f27fb0d9208b"
      },
      "source": [
        "ts.resample('10T',closed='right').sum() # 오른쪽 한계값을 구간에 포함"
      ],
      "execution_count": 21,
      "outputs": [
        {
          "output_type": "execute_result",
          "data": {
            "text/plain": [
              "2017-12-31 23:50:00   -1.173123\n",
              "2018-01-01 00:00:00    7.740444\n",
              "2018-01-01 00:10:00    3.338065\n",
              "2018-01-01 00:20:00    0.835217\n",
              "2018-01-01 00:30:00    2.480654\n",
              "2018-01-01 00:40:00   -0.653363\n",
              "2018-01-01 00:50:00    0.266409\n",
              "Freq: 10T, dtype: float64"
            ]
          },
          "metadata": {
            "tags": []
          },
          "execution_count": 21
        }
      ]
    },
    {
      "cell_type": "code",
      "metadata": {
        "id": "lxVZRf9HY1jW",
        "colab_type": "code",
        "colab": {
          "base_uri": "https://localhost:8080/",
          "height": 402
        },
        "outputId": "6087bd34-1a03-4968-f185-424c3c5f95d3"
      },
      "source": [
        "ts.resample('5T').ohlc() # 시고저종 값을 구함"
      ],
      "execution_count": 22,
      "outputs": [
        {
          "output_type": "execute_result",
          "data": {
            "text/html": [
              "<div>\n",
              "<style scoped>\n",
              "    .dataframe tbody tr th:only-of-type {\n",
              "        vertical-align: middle;\n",
              "    }\n",
              "\n",
              "    .dataframe tbody tr th {\n",
              "        vertical-align: top;\n",
              "    }\n",
              "\n",
              "    .dataframe thead th {\n",
              "        text-align: right;\n",
              "    }\n",
              "</style>\n",
              "<table border=\"1\" class=\"dataframe\">\n",
              "  <thead>\n",
              "    <tr style=\"text-align: right;\">\n",
              "      <th></th>\n",
              "      <th>open</th>\n",
              "      <th>high</th>\n",
              "      <th>low</th>\n",
              "      <th>close</th>\n",
              "    </tr>\n",
              "  </thead>\n",
              "  <tbody>\n",
              "    <tr>\n",
              "      <th>2018-01-01 00:00:00</th>\n",
              "      <td>-1.173123</td>\n",
              "      <td>1.943621</td>\n",
              "      <td>-1.173123</td>\n",
              "      <td>1.922942</td>\n",
              "    </tr>\n",
              "    <tr>\n",
              "      <th>2018-01-01 00:05:00</th>\n",
              "      <td>1.480515</td>\n",
              "      <td>1.910065</td>\n",
              "      <td>-0.861226</td>\n",
              "      <td>1.910065</td>\n",
              "    </tr>\n",
              "    <tr>\n",
              "      <th>2018-01-01 00:10:00</th>\n",
              "      <td>-0.268003</td>\n",
              "      <td>0.947252</td>\n",
              "      <td>-0.268003</td>\n",
              "      <td>0.614079</td>\n",
              "    </tr>\n",
              "    <tr>\n",
              "      <th>2018-01-01 00:15:00</th>\n",
              "      <td>0.922207</td>\n",
              "      <td>1.326386</td>\n",
              "      <td>-1.099401</td>\n",
              "      <td>1.326386</td>\n",
              "    </tr>\n",
              "    <tr>\n",
              "      <th>2018-01-01 00:20:00</th>\n",
              "      <td>-0.694568</td>\n",
              "      <td>1.849264</td>\n",
              "      <td>-0.694568</td>\n",
              "      <td>0.672295</td>\n",
              "    </tr>\n",
              "    <tr>\n",
              "      <th>2018-01-01 00:25:00</th>\n",
              "      <td>0.407462</td>\n",
              "      <td>0.539249</td>\n",
              "      <td>-0.769916</td>\n",
              "      <td>0.031831</td>\n",
              "    </tr>\n",
              "    <tr>\n",
              "      <th>2018-01-01 00:30:00</th>\n",
              "      <td>-0.635846</td>\n",
              "      <td>0.676433</td>\n",
              "      <td>-0.635846</td>\n",
              "      <td>0.396007</td>\n",
              "    </tr>\n",
              "    <tr>\n",
              "      <th>2018-01-01 00:35:00</th>\n",
              "      <td>-1.093062</td>\n",
              "      <td>0.635031</td>\n",
              "      <td>-1.491258</td>\n",
              "      <td>0.635031</td>\n",
              "    </tr>\n",
              "    <tr>\n",
              "      <th>2018-01-01 00:40:00</th>\n",
              "      <td>2.383145</td>\n",
              "      <td>2.383145</td>\n",
              "      <td>-1.315907</td>\n",
              "      <td>-1.315907</td>\n",
              "    </tr>\n",
              "    <tr>\n",
              "      <th>2018-01-01 00:45:00</th>\n",
              "      <td>-0.461585</td>\n",
              "      <td>1.713343</td>\n",
              "      <td>-0.826439</td>\n",
              "      <td>-0.826439</td>\n",
              "    </tr>\n",
              "    <tr>\n",
              "      <th>2018-01-01 00:50:00</th>\n",
              "      <td>-0.098453</td>\n",
              "      <td>1.126636</td>\n",
              "      <td>-1.147469</td>\n",
              "      <td>-1.147469</td>\n",
              "    </tr>\n",
              "    <tr>\n",
              "      <th>2018-01-01 00:55:00</th>\n",
              "      <td>-0.437820</td>\n",
              "      <td>1.929532</td>\n",
              "      <td>-0.498032</td>\n",
              "      <td>0.087551</td>\n",
              "    </tr>\n",
              "  </tbody>\n",
              "</table>\n",
              "</div>"
            ],
            "text/plain": [
              "                         open      high       low     close\n",
              "2018-01-01 00:00:00 -1.173123  1.943621 -1.173123  1.922942\n",
              "2018-01-01 00:05:00  1.480515  1.910065 -0.861226  1.910065\n",
              "2018-01-01 00:10:00 -0.268003  0.947252 -0.268003  0.614079\n",
              "2018-01-01 00:15:00  0.922207  1.326386 -1.099401  1.326386\n",
              "2018-01-01 00:20:00 -0.694568  1.849264 -0.694568  0.672295\n",
              "2018-01-01 00:25:00  0.407462  0.539249 -0.769916  0.031831\n",
              "2018-01-01 00:30:00 -0.635846  0.676433 -0.635846  0.396007\n",
              "2018-01-01 00:35:00 -1.093062  0.635031 -1.491258  0.635031\n",
              "2018-01-01 00:40:00  2.383145  2.383145 -1.315907 -1.315907\n",
              "2018-01-01 00:45:00 -0.461585  1.713343 -0.826439 -0.826439\n",
              "2018-01-01 00:50:00 -0.098453  1.126636 -1.147469 -1.147469\n",
              "2018-01-01 00:55:00 -0.437820  1.929532 -0.498032  0.087551"
            ]
          },
          "metadata": {
            "tags": []
          },
          "execution_count": 22
        }
      ]
    },
    {
      "cell_type": "code",
      "metadata": {
        "id": "sSi_A1K4ZGUy",
        "colab_type": "code",
        "colab": {
          "base_uri": "https://localhost:8080/",
          "height": 386
        },
        "outputId": "7ddf6cbc-640c-44b4-e0e9-d6c00d4d61b1"
      },
      "source": [
        "ts.resample('30s').ffill().head(20) # 앞에 나온 데이터를 뒤에서 그대로 사용"
      ],
      "execution_count": 23,
      "outputs": [
        {
          "output_type": "execute_result",
          "data": {
            "text/plain": [
              "2018-01-01 00:00:00   -1.173123\n",
              "2018-01-01 00:00:30   -1.173123\n",
              "2018-01-01 00:01:00    1.943621\n",
              "2018-01-01 00:01:30    1.943621\n",
              "2018-01-01 00:02:00   -0.413619\n",
              "2018-01-01 00:02:30   -0.413619\n",
              "2018-01-01 00:03:00   -0.747455\n",
              "2018-01-01 00:03:30   -0.747455\n",
              "2018-01-01 00:04:00    1.922942\n",
              "2018-01-01 00:04:30    1.922942\n",
              "2018-01-01 00:05:00    1.480515\n",
              "2018-01-01 00:05:30    1.480515\n",
              "2018-01-01 00:06:00    1.867559\n",
              "2018-01-01 00:06:30    1.867559\n",
              "2018-01-01 00:07:00    0.906045\n",
              "2018-01-01 00:07:30    0.906045\n",
              "2018-01-01 00:08:00   -0.861226\n",
              "2018-01-01 00:08:30   -0.861226\n",
              "2018-01-01 00:09:00    1.910065\n",
              "2018-01-01 00:09:30    1.910065\n",
              "Freq: 30S, dtype: float64"
            ]
          },
          "metadata": {
            "tags": []
          },
          "execution_count": 23
        }
      ]
    },
    {
      "cell_type": "code",
      "metadata": {
        "id": "R8khkESRZTWa",
        "colab_type": "code",
        "colab": {
          "base_uri": "https://localhost:8080/",
          "height": 386
        },
        "outputId": "53720a84-9f70-4b4f-9152-683124ffaf3b"
      },
      "source": [
        "ts.resample('30s').bfill().head(20) # 뒤에 나온 데이터를 앞에서 그대로 사용"
      ],
      "execution_count": 24,
      "outputs": [
        {
          "output_type": "execute_result",
          "data": {
            "text/plain": [
              "2018-01-01 00:00:00   -1.173123\n",
              "2018-01-01 00:00:30    1.943621\n",
              "2018-01-01 00:01:00    1.943621\n",
              "2018-01-01 00:01:30   -0.413619\n",
              "2018-01-01 00:02:00   -0.413619\n",
              "2018-01-01 00:02:30   -0.747455\n",
              "2018-01-01 00:03:00   -0.747455\n",
              "2018-01-01 00:03:30    1.922942\n",
              "2018-01-01 00:04:00    1.922942\n",
              "2018-01-01 00:04:30    1.480515\n",
              "2018-01-01 00:05:00    1.480515\n",
              "2018-01-01 00:05:30    1.867559\n",
              "2018-01-01 00:06:00    1.867559\n",
              "2018-01-01 00:06:30    0.906045\n",
              "2018-01-01 00:07:00    0.906045\n",
              "2018-01-01 00:07:30   -0.861226\n",
              "2018-01-01 00:08:00   -0.861226\n",
              "2018-01-01 00:08:30    1.910065\n",
              "2018-01-01 00:09:00    1.910065\n",
              "2018-01-01 00:09:30   -0.268003\n",
              "Freq: 30S, dtype: float64"
            ]
          },
          "metadata": {
            "tags": []
          },
          "execution_count": 24
        }
      ]
    },
    {
      "cell_type": "code",
      "metadata": {
        "id": "jrwpRpAVZgEk",
        "colab_type": "code",
        "colab": {}
      },
      "source": [
        ""
      ],
      "execution_count": 0,
      "outputs": []
    }
  ]
}